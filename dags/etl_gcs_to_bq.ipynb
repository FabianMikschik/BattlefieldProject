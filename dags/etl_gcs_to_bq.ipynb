{
 "cells": [
  {
   "cell_type": "code",
   "execution_count": 16,
   "id": "de948e13",
   "metadata": {},
   "outputs": [
    {
     "name": "stdout",
     "output_type": "stream",
     "text": [
      "Loaded 23 rows.\n",
      "Loaded 59 rows.\n",
      "Loaded 1 rows.\n",
      "Loaded 59 rows.\n"
     ]
    }
   ],
   "source": [
    "from google.cloud import bigquery\n",
    "import os\n",
    "\n",
    "os.environ['GOOGLE_APPLICATION_CREDENTIALS'] = \"F:/Users/Fabi/Downloads/dtc-de-project-380614-38429ed300c2.json\"\n",
    "client = bigquery.Client()\n",
    "job_config = bigquery.LoadJobConfig(\n",
    "    source_format=bigquery.SourceFormat.PARQUET, write_disposition=bigquery.WriteDisposition.WRITE_TRUNCATE,\n",
    ")\n",
    "\n",
    "fileNames = [\"server_map_rotation\", \"server_players\", \"server_infos\", \"server_bridge_players\"]\n",
    "\n",
    "def el_gcs_to_bq(fileName: str) -> None:\n",
    "    uri = f\"gs://dtc_data_lake_dtc-de-project-380614/data/battlefield/{fileName}.parquet\"\n",
    "\n",
    "    load_job = client.load_table_from_uri(\n",
    "        uri, f\"dtc-de-project-380614.battlefield_vault.stg_{fileName}\", job_config=job_config\n",
    "    )  # Make an API request.\n",
    "\n",
    "    load_job.result()  # Waits for the job to complete.\n",
    "\n",
    "    destination_table = client.get_table(f\"dtc-de-project-380614.battlefield_vault.stg_{fileName}\")\n",
    "    print(\"Loaded {} rows.\".format(destination_table.num_rows))\n",
    "    \n",
    "\n",
    "for i in fileNames:\n",
    "    el_gcs_to_bq(i)\n",
    "    \n",
    "\n",
    "\n"
   ]
  }
 ],
 "metadata": {
  "kernelspec": {
   "display_name": "Python 3 (ipykernel)",
   "language": "python",
   "name": "python3"
  },
  "language_info": {
   "codemirror_mode": {
    "name": "ipython",
    "version": 3
   },
   "file_extension": ".py",
   "mimetype": "text/x-python",
   "name": "python",
   "nbconvert_exporter": "python",
   "pygments_lexer": "ipython3",
   "version": "3.9.13"
  }
 },
 "nbformat": 4,
 "nbformat_minor": 5
}
